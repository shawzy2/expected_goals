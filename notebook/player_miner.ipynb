{
 "cells": [
  {
   "cell_type": "markdown",
   "id": "771dd8b8",
   "metadata": {},
   "source": [
    "# Mine Player Information\n",
    "We need additional player info for our expected goals model. Things like shooter/goalie handness and shooter position (forward/defense) might be useful to us. Let us get this data from the NHL API."
   ]
  },
  {
   "cell_type": "code",
   "execution_count": 116,
   "id": "fad26e8d",
   "metadata": {},
   "outputs": [],
   "source": [
    "import requests\n",
    "import json\n",
    "import pandas as pd"
   ]
  },
  {
   "cell_type": "markdown",
   "id": "156cc9a1",
   "metadata": {},
   "source": [
    "##### Get list of team id's"
   ]
  },
  {
   "cell_type": "code",
   "execution_count": 63,
   "id": "82da516c",
   "metadata": {},
   "outputs": [],
   "source": [
    "# get all team data\n",
    "r = requests.get(url='https://statsapi.web.nhl.com/api/v1/teams')\n",
    "d = r.json()\n",
    "teams = d['teams']\n",
    "\n",
    "# extract team_ids\n",
    "team_ids = []\n",
    "for team in teams:\n",
    "    team_ids.append(str(team['franchiseId']))\n",
    "    \n",
    "team_ids = sorted(team_ids)"
   ]
  },
  {
   "cell_type": "markdown",
   "id": "4d85a31a",
   "metadata": {},
   "source": [
    "##### Get list of all player id's between 2015-2021"
   ]
  },
  {
   "cell_type": "code",
   "execution_count": 64,
   "id": "d3424edf",
   "metadata": {},
   "outputs": [],
   "source": [
    "def list_to_string(a_list):\n",
    "    return \",\".join(a_list)"
   ]
  },
  {
   "cell_type": "code",
   "execution_count": 111,
   "id": "b285082b",
   "metadata": {},
   "outputs": [],
   "source": [
    "player_ids = set()\n",
    "seasons = ['20152016', '20162017', '20172018', '20182019', '20192020', '20202021', '20212022']\n",
    "# seasons = ['20152016']\n",
    "\n",
    "for season in seasons:\n",
    "    # get all players on this roster\n",
    "    r = requests.get(url=f'https://statsapi.web.nhl.com/api/v1/teams?teamId={list_to_string(team_ids)}\\\n",
    "                            &expand=team.roster&season={season}')\n",
    "    d = r.json()\n",
    "    \n",
    "    # extract player_ids\n",
    "    for team in d['teams']:\n",
    "        for player in team['roster']['roster']:\n",
    "            player_ids.add(str(player['person']['id']))"
   ]
  },
  {
   "cell_type": "code",
   "execution_count": 112,
   "id": "73ac9337",
   "metadata": {},
   "outputs": [
    {
     "data": {
      "text/plain": [
       "1441"
      ]
     },
     "execution_count": 112,
     "metadata": {},
     "output_type": "execute_result"
    }
   ],
   "source": [
    "len(player_ids)"
   ]
  },
  {
   "cell_type": "markdown",
   "id": "06d78598",
   "metadata": {},
   "source": [
    "##### Get player information for all players that were collected in player_ids list"
   ]
  },
  {
   "cell_type": "code",
   "execution_count": 113,
   "id": "2cdc4e4f",
   "metadata": {},
   "outputs": [],
   "source": [
    "def height_to_inches(h):\n",
    "    return int(h.split(\"'\")[0].strip()) * 12 + int(h.split(\"'\")[1].strip().strip(\"\\\"\"))"
   ]
  },
  {
   "cell_type": "code",
   "execution_count": 114,
   "id": "8165213e",
   "metadata": {},
   "outputs": [],
   "source": [
    "attributes = []\n",
    "for player_id in player_ids:\n",
    "    try:\n",
    "        r = requests.get(url=f'https://statsapi.web.nhl.com/api/v1/people/{player_id}')\n",
    "        d = r.json()\n",
    "        player_data = d['people'][0]\n",
    "\n",
    "        attributes.append({\n",
    "            'id' : player_data['id'],\n",
    "            'fullName' : player_data['fullName'],\n",
    "            'birthDate' : player_data['birthDate'],\n",
    "            'nationality' : player_data['nationality'],\n",
    "            'height' : height_to_inches(player_data['height']),\n",
    "            'weight' : player_data['weight'],\n",
    "            'shootsCatches' : player_data['shootsCatches'],\n",
    "            'primaryPosition' : player_data['primaryPosition']['abbreviation'],\n",
    "            'type' : player_data['primaryPosition']['type']\n",
    "        })\n",
    "    except:\n",
    "        print(player_id)"
   ]
  },
  {
   "cell_type": "code",
   "execution_count": 115,
   "id": "55d8bc55",
   "metadata": {},
   "outputs": [
    {
     "data": {
      "text/plain": [
       "1441"
      ]
     },
     "execution_count": 115,
     "metadata": {},
     "output_type": "execute_result"
    }
   ],
   "source": [
    "len(attributes)"
   ]
  },
  {
   "cell_type": "markdown",
   "id": "a1dc5f02",
   "metadata": {},
   "source": [
    "##### Read in attributes as df"
   ]
  },
  {
   "cell_type": "code",
   "execution_count": 120,
   "id": "15664761",
   "metadata": {},
   "outputs": [
    {
     "data": {
      "text/html": [
       "<div>\n",
       "<style scoped>\n",
       "    .dataframe tbody tr th:only-of-type {\n",
       "        vertical-align: middle;\n",
       "    }\n",
       "\n",
       "    .dataframe tbody tr th {\n",
       "        vertical-align: top;\n",
       "    }\n",
       "\n",
       "    .dataframe thead th {\n",
       "        text-align: right;\n",
       "    }\n",
       "</style>\n",
       "<table border=\"1\" class=\"dataframe\">\n",
       "  <thead>\n",
       "    <tr style=\"text-align: right;\">\n",
       "      <th></th>\n",
       "      <th>id</th>\n",
       "      <th>fullName</th>\n",
       "      <th>birthDate</th>\n",
       "      <th>nationality</th>\n",
       "      <th>height</th>\n",
       "      <th>weight</th>\n",
       "      <th>shootsCatches</th>\n",
       "      <th>primaryPosition</th>\n",
       "      <th>type</th>\n",
       "    </tr>\n",
       "  </thead>\n",
       "  <tbody>\n",
       "    <tr>\n",
       "      <th>0</th>\n",
       "      <td>8474685</td>\n",
       "      <td>Matt Calvert</td>\n",
       "      <td>1989-12-24</td>\n",
       "      <td>CAN</td>\n",
       "      <td>71</td>\n",
       "      <td>186</td>\n",
       "      <td>L</td>\n",
       "      <td>LW</td>\n",
       "      <td>Forward</td>\n",
       "    </tr>\n",
       "    <tr>\n",
       "      <th>1</th>\n",
       "      <td>8476414</td>\n",
       "      <td>Alexandre Grenier</td>\n",
       "      <td>1991-09-05</td>\n",
       "      <td>CAN</td>\n",
       "      <td>77</td>\n",
       "      <td>200</td>\n",
       "      <td>R</td>\n",
       "      <td>RW</td>\n",
       "      <td>Forward</td>\n",
       "    </tr>\n",
       "    <tr>\n",
       "      <th>2</th>\n",
       "      <td>8479314</td>\n",
       "      <td>Matthew Tkachuk</td>\n",
       "      <td>1997-12-11</td>\n",
       "      <td>USA</td>\n",
       "      <td>74</td>\n",
       "      <td>202</td>\n",
       "      <td>L</td>\n",
       "      <td>LW</td>\n",
       "      <td>Forward</td>\n",
       "    </tr>\n",
       "    <tr>\n",
       "      <th>3</th>\n",
       "      <td>8478431</td>\n",
       "      <td>Evgeny Svechnikov</td>\n",
       "      <td>1996-10-31</td>\n",
       "      <td>RUS</td>\n",
       "      <td>75</td>\n",
       "      <td>208</td>\n",
       "      <td>L</td>\n",
       "      <td>LW</td>\n",
       "      <td>Forward</td>\n",
       "    </tr>\n",
       "    <tr>\n",
       "      <th>4</th>\n",
       "      <td>8473465</td>\n",
       "      <td>Jamie McGinn</td>\n",
       "      <td>1988-08-05</td>\n",
       "      <td>CAN</td>\n",
       "      <td>73</td>\n",
       "      <td>205</td>\n",
       "      <td>L</td>\n",
       "      <td>LW</td>\n",
       "      <td>Forward</td>\n",
       "    </tr>\n",
       "    <tr>\n",
       "      <th>5</th>\n",
       "      <td>8477149</td>\n",
       "      <td>Scott Sabourin</td>\n",
       "      <td>1992-07-30</td>\n",
       "      <td>CAN</td>\n",
       "      <td>76</td>\n",
       "      <td>207</td>\n",
       "      <td>R</td>\n",
       "      <td>RW</td>\n",
       "      <td>Forward</td>\n",
       "    </tr>\n",
       "    <tr>\n",
       "      <th>6</th>\n",
       "      <td>8475791</td>\n",
       "      <td>Taylor Hall</td>\n",
       "      <td>1991-11-14</td>\n",
       "      <td>CAN</td>\n",
       "      <td>73</td>\n",
       "      <td>207</td>\n",
       "      <td>L</td>\n",
       "      <td>LW</td>\n",
       "      <td>Forward</td>\n",
       "    </tr>\n",
       "    <tr>\n",
       "      <th>7</th>\n",
       "      <td>8477831</td>\n",
       "      <td>Pheonix Copley</td>\n",
       "      <td>1992-01-18</td>\n",
       "      <td>USA</td>\n",
       "      <td>76</td>\n",
       "      <td>200</td>\n",
       "      <td>L</td>\n",
       "      <td>G</td>\n",
       "      <td>Goalie</td>\n",
       "    </tr>\n",
       "    <tr>\n",
       "      <th>8</th>\n",
       "      <td>8477369</td>\n",
       "      <td>Carson Soucy</td>\n",
       "      <td>1994-07-27</td>\n",
       "      <td>CAN</td>\n",
       "      <td>77</td>\n",
       "      <td>211</td>\n",
       "      <td>L</td>\n",
       "      <td>D</td>\n",
       "      <td>Defenseman</td>\n",
       "    </tr>\n",
       "    <tr>\n",
       "      <th>9</th>\n",
       "      <td>8477498</td>\n",
       "      <td>Darnell Nurse</td>\n",
       "      <td>1995-02-04</td>\n",
       "      <td>CAN</td>\n",
       "      <td>76</td>\n",
       "      <td>221</td>\n",
       "      <td>L</td>\n",
       "      <td>D</td>\n",
       "      <td>Defenseman</td>\n",
       "    </tr>\n",
       "  </tbody>\n",
       "</table>\n",
       "</div>"
      ],
      "text/plain": [
       "        id           fullName   birthDate nationality  height  weight  \\\n",
       "0  8474685       Matt Calvert  1989-12-24         CAN      71     186   \n",
       "1  8476414  Alexandre Grenier  1991-09-05         CAN      77     200   \n",
       "2  8479314    Matthew Tkachuk  1997-12-11         USA      74     202   \n",
       "3  8478431  Evgeny Svechnikov  1996-10-31         RUS      75     208   \n",
       "4  8473465       Jamie McGinn  1988-08-05         CAN      73     205   \n",
       "5  8477149     Scott Sabourin  1992-07-30         CAN      76     207   \n",
       "6  8475791        Taylor Hall  1991-11-14         CAN      73     207   \n",
       "7  8477831     Pheonix Copley  1992-01-18         USA      76     200   \n",
       "8  8477369       Carson Soucy  1994-07-27         CAN      77     211   \n",
       "9  8477498      Darnell Nurse  1995-02-04         CAN      76     221   \n",
       "\n",
       "  shootsCatches primaryPosition        type  \n",
       "0             L              LW     Forward  \n",
       "1             R              RW     Forward  \n",
       "2             L              LW     Forward  \n",
       "3             L              LW     Forward  \n",
       "4             L              LW     Forward  \n",
       "5             R              RW     Forward  \n",
       "6             L              LW     Forward  \n",
       "7             L               G      Goalie  \n",
       "8             L               D  Defenseman  \n",
       "9             L               D  Defenseman  "
      ]
     },
     "execution_count": 120,
     "metadata": {},
     "output_type": "execute_result"
    }
   ],
   "source": [
    "df = pd.DataFrame(attributes)\n",
    "df.head(10)"
   ]
  },
  {
   "cell_type": "markdown",
   "id": "f2bb8e56",
   "metadata": {},
   "source": [
    "##### Save attributes as json"
   ]
  },
  {
   "cell_type": "code",
   "execution_count": 121,
   "id": "e3b65ebf",
   "metadata": {},
   "outputs": [],
   "source": [
    "path = '../data/playerAttributes.json'\n",
    "with open(path, 'w') as f:\n",
    "    json.dump(attributes, f, indent=2)"
   ]
  }
 ],
 "metadata": {
  "kernelspec": {
   "display_name": "Python 3",
   "language": "python",
   "name": "python3"
  },
  "language_info": {
   "codemirror_mode": {
    "name": "ipython",
    "version": 3
   },
   "file_extension": ".py",
   "mimetype": "text/x-python",
   "name": "python",
   "nbconvert_exporter": "python",
   "pygments_lexer": "ipython3",
   "version": "3.8.1"
  }
 },
 "nbformat": 4,
 "nbformat_minor": 5
}
