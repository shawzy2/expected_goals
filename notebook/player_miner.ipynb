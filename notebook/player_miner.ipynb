{
 "cells": [
  {
   "cell_type": "markdown",
   "id": "771dd8b8",
   "metadata": {},
   "source": [
    "# Mine Player Information\n",
    "We need additional player info for our expected goals model. Things like shooter/goalie handness and shooter position (forward/defense) might be useful to us. Let us get this data from the NHL API."
   ]
  },
  {
   "cell_type": "code",
   "execution_count": 1,
   "id": "fad26e8d",
   "metadata": {},
   "outputs": [],
   "source": [
    "import requests\n",
    "import json\n",
    "import pandas as pd"
   ]
  },
  {
   "cell_type": "markdown",
   "id": "156cc9a1",
   "metadata": {},
   "source": [
    "##### Get list of team id's"
   ]
  },
  {
   "cell_type": "code",
   "execution_count": 2,
   "id": "82da516c",
   "metadata": {},
   "outputs": [],
   "source": [
    "# get all team data\n",
    "r = requests.get(url='https://statsapi.web.nhl.com/api/v1/teams')\n",
    "d = r.json()\n",
    "teams = d['teams']\n",
    "\n",
    "# extract team_ids\n",
    "team_ids = []\n",
    "for team in teams:\n",
    "    team_ids.append(str(team['id']))\n",
    "    \n",
    "team_ids = sorted(team_ids)"
   ]
  },
  {
   "cell_type": "markdown",
   "id": "4d85a31a",
   "metadata": {},
   "source": [
    "##### Get list of all player id's between 2015-2021"
   ]
  },
  {
   "cell_type": "code",
   "execution_count": 3,
   "id": "d3424edf",
   "metadata": {},
   "outputs": [],
   "source": [
    "def list_to_string(a_list):\n",
    "    return \",\".join(a_list)"
   ]
  },
  {
   "cell_type": "code",
   "execution_count": 4,
   "id": "b285082b",
   "metadata": {},
   "outputs": [],
   "source": [
    "player_ids = set()\n",
    "seasons = ['20152016', '20162017', '20172018', '20182019', '20192020', '20202021', '20212022']\n",
    "# seasons = ['20152016']\n",
    "\n",
    "# there is a cap on how many teams we can pass to this api query string parameter\n",
    "## to work around, make to idential api calls to get rosters for all teams in each season\n",
    "for season in seasons:\n",
    "    # get list of player ids that are on rosters\n",
    "    r = requests.get(url=f'https://statsapi.web.nhl.com/api/v1/teams?teamId={list_to_string(team_ids)}\\\n",
    "                            &expand=team.roster&season={season}')\n",
    "    d = r.json()\n",
    "    \n",
    "    # extract player_ids\n",
    "    for team in d['teams']:\n",
    "        for player in team['roster']['roster']:\n",
    "            player_ids.add(str(player['person']['id']))"
   ]
  },
  {
   "cell_type": "code",
   "execution_count": 5,
   "id": "73ac9337",
   "metadata": {},
   "outputs": [
    {
     "data": {
      "text/plain": [
       "1786"
      ]
     },
     "execution_count": 5,
     "metadata": {},
     "output_type": "execute_result"
    }
   ],
   "source": [
    "len(player_ids)"
   ]
  },
  {
   "cell_type": "markdown",
   "id": "06d78598",
   "metadata": {},
   "source": [
    "##### Get player information for all players that were collected in player_ids list"
   ]
  },
  {
   "cell_type": "code",
   "execution_count": 6,
   "id": "2cdc4e4f",
   "metadata": {},
   "outputs": [],
   "source": [
    "def height_to_inches(h):\n",
    "    return int(h.split(\"'\")[0].strip()) * 12 + int(h.split(\"'\")[1].strip().strip(\"\\\"\"))"
   ]
  },
  {
   "cell_type": "code",
   "execution_count": 7,
   "id": "8165213e",
   "metadata": {},
   "outputs": [],
   "source": [
    "attributes = []\n",
    "for player_id in player_ids:\n",
    "    try:\n",
    "        r = requests.get(url=f'https://statsapi.web.nhl.com/api/v1/people/{player_id}')\n",
    "        d = r.json()\n",
    "        player_data = d['people'][0]\n",
    "\n",
    "        attributes.append({\n",
    "            'id' : player_data['id'],\n",
    "            'fullName' : player_data['fullName'],\n",
    "            'birthDate' : player_data['birthDate'],\n",
    "            'nationality' : player_data['nationality'],\n",
    "            'height' : height_to_inches(player_data['height']),\n",
    "            'weight' : player_data['weight'],\n",
    "            'shootsCatches' : player_data['shootsCatches'],\n",
    "            'primaryPosition' : player_data['primaryPosition']['abbreviation'],\n",
    "            'type' : player_data['primaryPosition']['type']\n",
    "        })\n",
    "    except:\n",
    "        print(player_id)"
   ]
  },
  {
   "cell_type": "code",
   "execution_count": 8,
   "id": "55d8bc55",
   "metadata": {},
   "outputs": [
    {
     "data": {
      "text/plain": [
       "1786"
      ]
     },
     "execution_count": 8,
     "metadata": {},
     "output_type": "execute_result"
    }
   ],
   "source": [
    "len(attributes)"
   ]
  },
  {
   "cell_type": "markdown",
   "id": "a1dc5f02",
   "metadata": {},
   "source": [
    "##### Read in attributes as df"
   ]
  },
  {
   "cell_type": "code",
   "execution_count": 9,
   "id": "15664761",
   "metadata": {},
   "outputs": [
    {
     "data": {
      "text/html": [
       "<div>\n",
       "<style scoped>\n",
       "    .dataframe tbody tr th:only-of-type {\n",
       "        vertical-align: middle;\n",
       "    }\n",
       "\n",
       "    .dataframe tbody tr th {\n",
       "        vertical-align: top;\n",
       "    }\n",
       "\n",
       "    .dataframe thead th {\n",
       "        text-align: right;\n",
       "    }\n",
       "</style>\n",
       "<table border=\"1\" class=\"dataframe\">\n",
       "  <thead>\n",
       "    <tr style=\"text-align: right;\">\n",
       "      <th></th>\n",
       "      <th>id</th>\n",
       "      <th>fullName</th>\n",
       "      <th>birthDate</th>\n",
       "      <th>nationality</th>\n",
       "      <th>height</th>\n",
       "      <th>weight</th>\n",
       "      <th>shootsCatches</th>\n",
       "      <th>primaryPosition</th>\n",
       "      <th>type</th>\n",
       "    </tr>\n",
       "  </thead>\n",
       "  <tbody>\n",
       "    <tr>\n",
       "      <th>0</th>\n",
       "      <td>8476316</td>\n",
       "      <td>Laurent Brossoit</td>\n",
       "      <td>1993-03-23</td>\n",
       "      <td>CAN</td>\n",
       "      <td>75</td>\n",
       "      <td>215</td>\n",
       "      <td>L</td>\n",
       "      <td>G</td>\n",
       "      <td>Goalie</td>\n",
       "    </tr>\n",
       "    <tr>\n",
       "      <th>1</th>\n",
       "      <td>8480373</td>\n",
       "      <td>Josef Korenar</td>\n",
       "      <td>1998-01-31</td>\n",
       "      <td>CZE</td>\n",
       "      <td>73</td>\n",
       "      <td>185</td>\n",
       "      <td>L</td>\n",
       "      <td>G</td>\n",
       "      <td>Goalie</td>\n",
       "    </tr>\n",
       "    <tr>\n",
       "      <th>2</th>\n",
       "      <td>8476897</td>\n",
       "      <td>Oskar Sundqvist</td>\n",
       "      <td>1994-03-23</td>\n",
       "      <td>SWE</td>\n",
       "      <td>75</td>\n",
       "      <td>208</td>\n",
       "      <td>R</td>\n",
       "      <td>C</td>\n",
       "      <td>Forward</td>\n",
       "    </tr>\n",
       "    <tr>\n",
       "      <th>3</th>\n",
       "      <td>8477461</td>\n",
       "      <td>Remi Elie</td>\n",
       "      <td>1995-04-16</td>\n",
       "      <td>CAN</td>\n",
       "      <td>73</td>\n",
       "      <td>215</td>\n",
       "      <td>L</td>\n",
       "      <td>LW</td>\n",
       "      <td>Forward</td>\n",
       "    </tr>\n",
       "    <tr>\n",
       "      <th>4</th>\n",
       "      <td>8479516</td>\n",
       "      <td>Garrett Pilon</td>\n",
       "      <td>1998-04-13</td>\n",
       "      <td>CAN</td>\n",
       "      <td>72</td>\n",
       "      <td>191</td>\n",
       "      <td>R</td>\n",
       "      <td>C</td>\n",
       "      <td>Forward</td>\n",
       "    </tr>\n",
       "    <tr>\n",
       "      <th>5</th>\n",
       "      <td>8475842</td>\n",
       "      <td>Sam Carrick</td>\n",
       "      <td>1992-02-04</td>\n",
       "      <td>CAN</td>\n",
       "      <td>72</td>\n",
       "      <td>200</td>\n",
       "      <td>R</td>\n",
       "      <td>C</td>\n",
       "      <td>Forward</td>\n",
       "    </tr>\n",
       "    <tr>\n",
       "      <th>6</th>\n",
       "      <td>8479984</td>\n",
       "      <td>Cal Foote</td>\n",
       "      <td>1998-12-13</td>\n",
       "      <td>USA</td>\n",
       "      <td>76</td>\n",
       "      <td>227</td>\n",
       "      <td>R</td>\n",
       "      <td>D</td>\n",
       "      <td>Defenseman</td>\n",
       "    </tr>\n",
       "    <tr>\n",
       "      <th>7</th>\n",
       "      <td>8475718</td>\n",
       "      <td>Justin Holl</td>\n",
       "      <td>1992-01-30</td>\n",
       "      <td>USA</td>\n",
       "      <td>76</td>\n",
       "      <td>194</td>\n",
       "      <td>R</td>\n",
       "      <td>D</td>\n",
       "      <td>Defenseman</td>\n",
       "    </tr>\n",
       "    <tr>\n",
       "      <th>8</th>\n",
       "      <td>8476971</td>\n",
       "      <td>Kevin Roy</td>\n",
       "      <td>1993-05-20</td>\n",
       "      <td>CAN</td>\n",
       "      <td>69</td>\n",
       "      <td>172</td>\n",
       "      <td>L</td>\n",
       "      <td>C</td>\n",
       "      <td>Forward</td>\n",
       "    </tr>\n",
       "    <tr>\n",
       "      <th>9</th>\n",
       "      <td>8470828</td>\n",
       "      <td>Toby Enstrom</td>\n",
       "      <td>1984-11-05</td>\n",
       "      <td>SWE</td>\n",
       "      <td>70</td>\n",
       "      <td>180</td>\n",
       "      <td>L</td>\n",
       "      <td>D</td>\n",
       "      <td>Defenseman</td>\n",
       "    </tr>\n",
       "  </tbody>\n",
       "</table>\n",
       "</div>"
      ],
      "text/plain": [
       "        id          fullName   birthDate nationality  height  weight  \\\n",
       "0  8476316  Laurent Brossoit  1993-03-23         CAN      75     215   \n",
       "1  8480373     Josef Korenar  1998-01-31         CZE      73     185   \n",
       "2  8476897   Oskar Sundqvist  1994-03-23         SWE      75     208   \n",
       "3  8477461         Remi Elie  1995-04-16         CAN      73     215   \n",
       "4  8479516     Garrett Pilon  1998-04-13         CAN      72     191   \n",
       "5  8475842       Sam Carrick  1992-02-04         CAN      72     200   \n",
       "6  8479984         Cal Foote  1998-12-13         USA      76     227   \n",
       "7  8475718       Justin Holl  1992-01-30         USA      76     194   \n",
       "8  8476971         Kevin Roy  1993-05-20         CAN      69     172   \n",
       "9  8470828      Toby Enstrom  1984-11-05         SWE      70     180   \n",
       "\n",
       "  shootsCatches primaryPosition        type  \n",
       "0             L               G      Goalie  \n",
       "1             L               G      Goalie  \n",
       "2             R               C     Forward  \n",
       "3             L              LW     Forward  \n",
       "4             R               C     Forward  \n",
       "5             R               C     Forward  \n",
       "6             R               D  Defenseman  \n",
       "7             R               D  Defenseman  \n",
       "8             L               C     Forward  \n",
       "9             L               D  Defenseman  "
      ]
     },
     "execution_count": 9,
     "metadata": {},
     "output_type": "execute_result"
    }
   ],
   "source": [
    "df = pd.DataFrame(attributes)\n",
    "df.head(10)"
   ]
  },
  {
   "cell_type": "code",
   "execution_count": 10,
   "id": "160b5664",
   "metadata": {},
   "outputs": [
    {
     "data": {
      "text/html": [
       "<div>\n",
       "<style scoped>\n",
       "    .dataframe tbody tr th:only-of-type {\n",
       "        vertical-align: middle;\n",
       "    }\n",
       "\n",
       "    .dataframe tbody tr th {\n",
       "        vertical-align: top;\n",
       "    }\n",
       "\n",
       "    .dataframe thead th {\n",
       "        text-align: right;\n",
       "    }\n",
       "</style>\n",
       "<table border=\"1\" class=\"dataframe\">\n",
       "  <thead>\n",
       "    <tr style=\"text-align: right;\">\n",
       "      <th></th>\n",
       "      <th>id</th>\n",
       "      <th>fullName</th>\n",
       "      <th>birthDate</th>\n",
       "      <th>nationality</th>\n",
       "      <th>height</th>\n",
       "      <th>weight</th>\n",
       "      <th>shootsCatches</th>\n",
       "      <th>primaryPosition</th>\n",
       "      <th>type</th>\n",
       "    </tr>\n",
       "  </thead>\n",
       "  <tbody>\n",
       "    <tr>\n",
       "      <th>412</th>\n",
       "      <td>8480801</td>\n",
       "      <td>Brady Tkachuk</td>\n",
       "      <td>1999-09-16</td>\n",
       "      <td>USA</td>\n",
       "      <td>76</td>\n",
       "      <td>211</td>\n",
       "      <td>L</td>\n",
       "      <td>LW</td>\n",
       "      <td>Forward</td>\n",
       "    </tr>\n",
       "  </tbody>\n",
       "</table>\n",
       "</div>"
      ],
      "text/plain": [
       "          id       fullName   birthDate nationality  height  weight  \\\n",
       "412  8480801  Brady Tkachuk  1999-09-16         USA      76     211   \n",
       "\n",
       "    shootsCatches primaryPosition     type  \n",
       "412             L              LW  Forward  "
      ]
     },
     "execution_count": 10,
     "metadata": {},
     "output_type": "execute_result"
    }
   ],
   "source": [
    "df[df['fullName'] == 'Brady Tkachuk']"
   ]
  },
  {
   "cell_type": "markdown",
   "id": "f2bb8e56",
   "metadata": {},
   "source": [
    "##### Save attributes as json"
   ]
  },
  {
   "cell_type": "code",
   "execution_count": 11,
   "id": "e3b65ebf",
   "metadata": {},
   "outputs": [],
   "source": [
    "path = '../data/playerAttributes.json'\n",
    "with open(path, 'w') as f:\n",
    "    json.dump(attributes, f, indent=2)"
   ]
  },
  {
   "cell_type": "code",
   "execution_count": null,
   "id": "4781de37",
   "metadata": {},
   "outputs": [],
   "source": []
  },
  {
   "cell_type": "code",
   "execution_count": null,
   "id": "bc69ffef",
   "metadata": {},
   "outputs": [],
   "source": []
  },
  {
   "cell_type": "code",
   "execution_count": 12,
   "id": "9d2bc697",
   "metadata": {},
   "outputs": [],
   "source": [
    "# r = requests.get(url=f'https://statsapi.web.nhl.com/api/v1/teams?teamId={list_to_string(team_ids)}\\\n",
    "#                             &expand=team.roster&season={season}')\n",
    "# d = r.json()"
   ]
  },
  {
   "cell_type": "code",
   "execution_count": 13,
   "id": "e474316a",
   "metadata": {},
   "outputs": [],
   "source": [
    "# '8480801' in player_ids"
   ]
  },
  {
   "cell_type": "code",
   "execution_count": null,
   "id": "70f44ab0",
   "metadata": {},
   "outputs": [],
   "source": []
  }
 ],
 "metadata": {
  "kernelspec": {
   "display_name": "Python 3",
   "language": "python",
   "name": "python3"
  },
  "language_info": {
   "codemirror_mode": {
    "name": "ipython",
    "version": 3
   },
   "file_extension": ".py",
   "mimetype": "text/x-python",
   "name": "python",
   "nbconvert_exporter": "python",
   "pygments_lexer": "ipython3",
   "version": "3.8.1"
  }
 },
 "nbformat": 4,
 "nbformat_minor": 5
}
