{
 "cells": [
  {
   "cell_type": "markdown",
   "id": "c7f6f17c",
   "metadata": {},
   "source": [
    "# Expected Goals Model\n",
    "My attempt at modeling the expected number of goals for skaters/goalies. In addition to features other models have integrated, such as [change in shot angle](https://www.moneypuck.com/about.htm), this model includes goaltender days of rest, number and direction of timezones traveled through since previous game, and shooter/goalie characteristics (height, weight, handness).  \n",
    "\n",
    "This notebook contains the following:\n",
    "\n",
    "* [Loading Data](#1)\n",
    "* [Data Mining](#2)\n",
    "* [Feature engineering](#3)\n",
    "* [Exploratory Data Analysis](#4)\n",
    "    * [Shot Timeline and Shot Outcome](#4.1)\n",
    "    * [Shot Location and Shot Outcome](#4.2)\n",
    "    * [Change in Shot Angle vs Shot Outcome](#4.3)\n",
    "    * [Change in Timezone and Effect on Shot Outcome ](#4.4)\n",
    "    * [Shot Type and Shot Outcome](#4.5)\n",
    "* [Model Building](#5)\n",
    "    * [Test-Train-Split](#5.1)\n",
    "    * [Model Training](#5.2)\n",
    "    * [Model Testing](#5.3)\n",
    "* [Final Model and Comparison](#6)\n",
    "\n",
    "TOC"
   ]
  },
  {
   "cell_type": "code",
   "execution_count": 1,
   "id": "b0719ca8",
   "metadata": {},
   "outputs": [],
   "source": [
    "import os\n",
    "import json\n",
    "import pprint\n",
    "import pandas as pd\n",
    "import matplotlib.pyplot as plt\n",
    "import numpy as np\n",
    "from scipy import stats"
   ]
  },
  {
   "cell_type": "markdown",
   "id": "01b5990b",
   "metadata": {},
   "source": [
    "### Loading Data <a class=\"anchor\" id=\"1\"></a>\n",
    "\n",
    "We will load the data from an AWS S3 bucket. This will allow analysis to be reproduced without lengthy data mining steps."
   ]
  },
  {
   "cell_type": "code",
   "execution_count": 2,
   "id": "1ea7cf83",
   "metadata": {},
   "outputs": [],
   "source": [
    "year = '2019'\n",
    "path = '../../nhl_overtime_eda/data/' + year + '_regSeasonPlays.json'\n",
    "\n",
    "games = {}\n",
    "with open(path) as f:\n",
    "    games[year] = json.load(f)"
   ]
  },
  {
   "cell_type": "code",
   "execution_count": 3,
   "id": "1a762dda",
   "metadata": {},
   "outputs": [
    {
     "name": "stdout",
     "output_type": "stream",
     "text": [
      "../../nhl_overtime_eda/data/2019_regSeasonPlays.json\n"
     ]
    }
   ],
   "source": [
    "# year = '2020'\n",
    "# years = ['2015','2016','2017','2018','2019','2020']\n",
    "years = ['2019']\n",
    "games = {}\n",
    "for year in years:\n",
    "    path = '../../nhl_overtime_eda/data/' + year + '_regSeasonPlays.json'\n",
    "    print(path)\n",
    "    with open(path) as f:\n",
    "        games[year] = json.load(f)"
   ]
  },
  {
   "cell_type": "code",
   "execution_count": 4,
   "id": "cd0d5be8",
   "metadata": {},
   "outputs": [],
   "source": [
    "# g = games['2019']['2019020001']\n",
    "\n",
    "# get game data for 2019-20\n",
    "game_data = games['2019']"
   ]
  },
  {
   "cell_type": "code",
   "execution_count": 5,
   "id": "9b2d52fa",
   "metadata": {},
   "outputs": [],
   "source": [
    "# for game_id in game_data:\n",
    "#     events = game_data[game_id]\n",
    "#     break\n",
    "    \n",
    "# for event in events['events']:\n",
    "#     print(event.get('result').get('strength').get('name'))"
   ]
  },
  {
   "cell_type": "code",
   "execution_count": null,
   "id": "33777a52",
   "metadata": {},
   "outputs": [],
   "source": []
  },
  {
   "cell_type": "code",
   "execution_count": 6,
   "id": "e1fddc6c",
   "metadata": {},
   "outputs": [],
   "source": [
    "# for key in games['2019']['2019020001']:\n",
    "#     print(key)\n",
    "#     print(games['2019']['2019020001'][key])"
   ]
  },
  {
   "cell_type": "code",
   "execution_count": 7,
   "id": "27c55e80",
   "metadata": {},
   "outputs": [],
   "source": [
    "# for i in games['2019']['2019020001']['events']:\n",
    "#     pprint.pprint(i)"
   ]
  },
  {
   "cell_type": "code",
   "execution_count": null,
   "id": "457ffee0",
   "metadata": {},
   "outputs": [],
   "source": []
  },
  {
   "cell_type": "markdown",
   "id": "19e0aa55",
   "metadata": {},
   "source": [
    "### Data mining <a class=\"anchor\" id=\"2\"></a>\n",
    "\n",
    "Now it is time to parse the raw json data structures for the information we care about, shots! "
   ]
  },
  {
   "cell_type": "code",
   "execution_count": 8,
   "id": "ae98eae0",
   "metadata": {},
   "outputs": [],
   "source": [
    "# # for game_id in game_data:\n",
    "# for e in game_data['2019020001']['events']:\n",
    "#     if e['result']['event'] == 'Shot':\n",
    "#         pprint.pprint(e)\n",
    "#         print()"
   ]
  },
  {
   "cell_type": "code",
   "execution_count": 9,
   "id": "25c47e03",
   "metadata": {},
   "outputs": [],
   "source": [
    "# get information we care about: shots and goals\n",
    "shots = []\n",
    "for game_id in game_data:\n",
    "    home_team = game_data[game_id]['home_team']\n",
    "    away_team = game_data[game_id]['away_team']\n",
    "    for event in game_data[game_id]['events']:\n",
    "        # if event is shot or goal, save it\n",
    "        if event['result']['event'] == 'Shot' or event['result']['event'] == 'Goal':\n",
    "            shooter = ''\n",
    "            shooter_id = 0\n",
    "            goalie = ''\n",
    "            goalie_id = 0\n",
    "\n",
    "            # extract shooter/goalie\n",
    "            for player in event['players']:\n",
    "                if player['playerType'] == 'Shooter' or player['playerType'] == 'Scorer':\n",
    "                    shooter = player['player']['fullName']\n",
    "                    shooter_id = player['player']['id']\n",
    "                elif player['playerType'] == 'Goalie':\n",
    "                    goalie = player['player']['fullName']\n",
    "                    goalie_id = player['player']['id']\n",
    "                    \n",
    "            # extract shooter/goalie team\n",
    "            shooter_team = event['team']['name']\n",
    "            goalie_team = home_team\n",
    "            if goalie_team == shooter_team: goalie_team = away_team\n",
    "\n",
    "            # extract strength for goal\n",
    "            strength = 'unknown'\n",
    "            try:\n",
    "                strength = event['result']['strength']['name']\n",
    "            except:\n",
    "                pass\n",
    "\n",
    "            shots.append({\n",
    "                'game_id': game_id,\n",
    "                'home_team': home_team,\n",
    "                'away_team': away_team,\n",
    "                'dateTime': event['about']['dateTime'],\n",
    "                'period': event['about']['period'],\n",
    "                'periodTime': event['about']['periodTime'],\n",
    "                'x_loc': event['coordinates'].get('x', np.NaN),\n",
    "                'y_loc': event['coordinates'].get('y', np.NaN),\n",
    "                'shooter': shooter,\n",
    "                'shooter_id': shooter_id,\n",
    "                'shooter_team': shooter_team,\n",
    "                'goalie': goalie,\n",
    "                'goalie_id': goalie_id,\n",
    "                'goalie_team': goalie_team,\n",
    "                'is_goal': (event['result']['event'] == 'Goal'),\n",
    "                'shot_type': event['result'].get('secondaryType'),                \n",
    "                'strength': strength\n",
    "            })"
   ]
  },
  {
   "cell_type": "markdown",
   "id": "38a60c08",
   "metadata": {},
   "source": [
    "### Feature engineering <a class=\"anchor\" id=\"3\"></a>\n",
    "* time since last shot (real time and time in period) **records of actual time are inaccurate\n",
    "* zone where shot came from (high slot, upper slot, etc)\n",
    "* change of angle since last shot\n",
    "* change in distance since last shot\n",
    "* days rest for goaltender\n",
    "* characteristics of shooter/goalie\n",
    "    * handness\n",
    "    * height\n",
    "    * weight\n",
    "    * age\n",
    "* amount of travel since previous game"
   ]
  },
  {
   "cell_type": "code",
   "execution_count": 221,
   "id": "e3590ed1",
   "metadata": {
    "scrolled": true
   },
   "outputs": [
    {
     "data": {
      "text/html": [
       "<div>\n",
       "<style scoped>\n",
       "    .dataframe tbody tr th:only-of-type {\n",
       "        vertical-align: middle;\n",
       "    }\n",
       "\n",
       "    .dataframe tbody tr th {\n",
       "        vertical-align: top;\n",
       "    }\n",
       "\n",
       "    .dataframe thead th {\n",
       "        text-align: right;\n",
       "    }\n",
       "</style>\n",
       "<table border=\"1\" class=\"dataframe\">\n",
       "  <thead>\n",
       "    <tr style=\"text-align: right;\">\n",
       "      <th></th>\n",
       "      <th>game_id</th>\n",
       "      <th>home_team</th>\n",
       "      <th>away_team</th>\n",
       "      <th>dateTime</th>\n",
       "      <th>period</th>\n",
       "      <th>periodTime</th>\n",
       "      <th>x_loc</th>\n",
       "      <th>y_loc</th>\n",
       "      <th>shooter</th>\n",
       "      <th>shooter_id</th>\n",
       "      <th>...</th>\n",
       "      <th>shot_type_Snap Shot</th>\n",
       "      <th>shot_type_Tip-In</th>\n",
       "      <th>shot_type_Wrap-around</th>\n",
       "      <th>shot_type_Wrist Shot</th>\n",
       "      <th>shooter_type_Defenseman</th>\n",
       "      <th>shooter_type_Forward</th>\n",
       "      <th>shooter_shootsCatches_L</th>\n",
       "      <th>shooter_shootsCatches_R</th>\n",
       "      <th>goalie_shootsCatches_L</th>\n",
       "      <th>goalie_shootsCatches_R</th>\n",
       "    </tr>\n",
       "  </thead>\n",
       "  <tbody>\n",
       "    <tr>\n",
       "      <th>0</th>\n",
       "      <td>2019020012</td>\n",
       "      <td>Anaheim Ducks</td>\n",
       "      <td>Arizona Coyotes</td>\n",
       "      <td>2019-10-04T03:26:26Z</td>\n",
       "      <td>2</td>\n",
       "      <td>12:03</td>\n",
       "      <td>73.0</td>\n",
       "      <td>-28.0</td>\n",
       "      <td>Jason Demers</td>\n",
       "      <td>8474218</td>\n",
       "      <td>...</td>\n",
       "      <td>0</td>\n",
       "      <td>0</td>\n",
       "      <td>0</td>\n",
       "      <td>1</td>\n",
       "      <td>1</td>\n",
       "      <td>0</td>\n",
       "      <td>0</td>\n",
       "      <td>1</td>\n",
       "      <td>1</td>\n",
       "      <td>0</td>\n",
       "    </tr>\n",
       "    <tr>\n",
       "      <th>1</th>\n",
       "      <td>2019020012</td>\n",
       "      <td>Anaheim Ducks</td>\n",
       "      <td>Arizona Coyotes</td>\n",
       "      <td>2019-10-04T04:14:09Z</td>\n",
       "      <td>3</td>\n",
       "      <td>07:28</td>\n",
       "      <td>78.0</td>\n",
       "      <td>-23.0</td>\n",
       "      <td>Michael Grabner</td>\n",
       "      <td>8473546</td>\n",
       "      <td>...</td>\n",
       "      <td>0</td>\n",
       "      <td>0</td>\n",
       "      <td>0</td>\n",
       "      <td>0</td>\n",
       "      <td>0</td>\n",
       "      <td>1</td>\n",
       "      <td>1</td>\n",
       "      <td>0</td>\n",
       "      <td>1</td>\n",
       "      <td>0</td>\n",
       "    </tr>\n",
       "    <tr>\n",
       "      <th>2</th>\n",
       "      <td>2019020012</td>\n",
       "      <td>Anaheim Ducks</td>\n",
       "      <td>Arizona Coyotes</td>\n",
       "      <td>2019-10-04T02:18:47Z</td>\n",
       "      <td>1</td>\n",
       "      <td>04:11</td>\n",
       "      <td>67.0</td>\n",
       "      <td>12.0</td>\n",
       "      <td>Michael Grabner</td>\n",
       "      <td>8473546</td>\n",
       "      <td>...</td>\n",
       "      <td>0</td>\n",
       "      <td>0</td>\n",
       "      <td>0</td>\n",
       "      <td>1</td>\n",
       "      <td>0</td>\n",
       "      <td>1</td>\n",
       "      <td>1</td>\n",
       "      <td>0</td>\n",
       "      <td>1</td>\n",
       "      <td>0</td>\n",
       "    </tr>\n",
       "    <tr>\n",
       "      <th>3</th>\n",
       "      <td>2019020012</td>\n",
       "      <td>Anaheim Ducks</td>\n",
       "      <td>Arizona Coyotes</td>\n",
       "      <td>2019-10-04T04:25:31Z</td>\n",
       "      <td>3</td>\n",
       "      <td>15:38</td>\n",
       "      <td>44.0</td>\n",
       "      <td>27.0</td>\n",
       "      <td>Nick Schmaltz</td>\n",
       "      <td>8477951</td>\n",
       "      <td>...</td>\n",
       "      <td>0</td>\n",
       "      <td>0</td>\n",
       "      <td>0</td>\n",
       "      <td>0</td>\n",
       "      <td>0</td>\n",
       "      <td>1</td>\n",
       "      <td>0</td>\n",
       "      <td>1</td>\n",
       "      <td>1</td>\n",
       "      <td>0</td>\n",
       "    </tr>\n",
       "    <tr>\n",
       "      <th>4</th>\n",
       "      <td>2019020012</td>\n",
       "      <td>Anaheim Ducks</td>\n",
       "      <td>Arizona Coyotes</td>\n",
       "      <td>2019-10-04T04:06:19Z</td>\n",
       "      <td>3</td>\n",
       "      <td>03:19</td>\n",
       "      <td>37.0</td>\n",
       "      <td>39.0</td>\n",
       "      <td>Oliver Ekman-Larsson</td>\n",
       "      <td>8475171</td>\n",
       "      <td>...</td>\n",
       "      <td>0</td>\n",
       "      <td>0</td>\n",
       "      <td>0</td>\n",
       "      <td>1</td>\n",
       "      <td>1</td>\n",
       "      <td>0</td>\n",
       "      <td>1</td>\n",
       "      <td>0</td>\n",
       "      <td>1</td>\n",
       "      <td>0</td>\n",
       "    </tr>\n",
       "  </tbody>\n",
       "</table>\n",
       "<p>5 rows × 57 columns</p>\n",
       "</div>"
      ],
      "text/plain": [
       "      game_id      home_team        away_team              dateTime  period  \\\n",
       "0  2019020012  Anaheim Ducks  Arizona Coyotes  2019-10-04T03:26:26Z       2   \n",
       "1  2019020012  Anaheim Ducks  Arizona Coyotes  2019-10-04T04:14:09Z       3   \n",
       "2  2019020012  Anaheim Ducks  Arizona Coyotes  2019-10-04T02:18:47Z       1   \n",
       "3  2019020012  Anaheim Ducks  Arizona Coyotes  2019-10-04T04:25:31Z       3   \n",
       "4  2019020012  Anaheim Ducks  Arizona Coyotes  2019-10-04T04:06:19Z       3   \n",
       "\n",
       "  periodTime  x_loc  y_loc               shooter  shooter_id  ...  \\\n",
       "0      12:03   73.0  -28.0          Jason Demers     8474218  ...   \n",
       "1      07:28   78.0  -23.0       Michael Grabner     8473546  ...   \n",
       "2      04:11   67.0   12.0       Michael Grabner     8473546  ...   \n",
       "3      15:38   44.0   27.0         Nick Schmaltz     8477951  ...   \n",
       "4      03:19   37.0   39.0  Oliver Ekman-Larsson     8475171  ...   \n",
       "\n",
       "  shot_type_Snap Shot shot_type_Tip-In  shot_type_Wrap-around  \\\n",
       "0                   0                0                      0   \n",
       "1                   0                0                      0   \n",
       "2                   0                0                      0   \n",
       "3                   0                0                      0   \n",
       "4                   0                0                      0   \n",
       "\n",
       "  shot_type_Wrist Shot  shooter_type_Defenseman shooter_type_Forward  \\\n",
       "0                    1                        1                    0   \n",
       "1                    0                        0                    1   \n",
       "2                    1                        0                    1   \n",
       "3                    0                        0                    1   \n",
       "4                    1                        1                    0   \n",
       "\n",
       "   shooter_shootsCatches_L  shooter_shootsCatches_R  goalie_shootsCatches_L  \\\n",
       "0                        0                        1                       1   \n",
       "1                        1                        0                       1   \n",
       "2                        1                        0                       1   \n",
       "3                        0                        1                       1   \n",
       "4                        1                        0                       1   \n",
       "\n",
       "   goalie_shootsCatches_R  \n",
       "0                       0  \n",
       "1                       0  \n",
       "2                       0  \n",
       "3                       0  \n",
       "4                       0  \n",
       "\n",
       "[5 rows x 57 columns]"
      ]
     },
     "execution_count": 221,
     "metadata": {},
     "output_type": "execute_result"
    }
   ],
   "source": [
    "# convert to dataframe\n",
    "df = pd.DataFrame(shots)\n",
    "df = df[df['goalie'] != ''] # filter empty net goals\n",
    "df = df[df['period'] != 5] # filter shootout attempts\n",
    "\n",
    "\n",
    "# find total seconds between shots (periodTime)\n",
    "df['time_seconds'] = df['periodTime'].str[:2].astype(int) * 60 + df['periodTime'].str[3:].astype(int)\n",
    "df['time_seconds'] = np.where(df['period'] == 2, df['time_seconds'] + 1200, \n",
    "                                 np.where(df['period'] == 3, df['time_seconds'] + 2400, df['time_seconds']))\n",
    "df = df.sort_values(by=['game_id', 'goalie', 'time_seconds']) # sort by game_id and goalie name\n",
    "df['time_seconds_diff'] = df.groupby(['game_id', 'goalie'])['time_seconds'].diff(1).fillna(df['time_seconds'])\n",
    "\n",
    "# get total shots\n",
    "df['tot_shots'] = 1\n",
    "df['tot_shots'] = df.groupby(['game_id', 'goalie'])['tot_shots'].cumsum()\n",
    "\n",
    "# fix all shots to one side of ice (adjust x and y coordinates)\n",
    "df.loc[df['x_loc'] < 0, 'y_loc'] = df['y_loc'] * -1\n",
    "df['x_loc'] = df['x_loc'].abs()\n",
    "df = df[df['x_loc'].notna()]\n",
    "\n",
    "# calculate angle of shot compared to goal\n",
    "x_goal = 89\n",
    "df['shot_angle'] = np.where(df['x_loc'] != x_goal,\n",
    "                            # when shot is from behind the net\n",
    "                            np.where(df['x_loc'] > x_goal,\n",
    "                                     np.where(df['y_loc'] >= 0,\n",
    "                                              round(90 + (90 - np.arctan(df['y_loc'] / (df['x_loc'] - x_goal)) * (180 / np.pi)), 2),\n",
    "                                              round(-90 - (90 + np.arctan(df['y_loc'] / (df['x_loc'] - x_goal)) * (180 / np.pi)), 2)\n",
    "                                             ),\n",
    "                                     # when shot is in front of net\n",
    "                                     round(np.arctan(df['y_loc'] / (x_goal - df['x_loc'])) * (180 / np.pi), 2)\n",
    "                                    ),\n",
    "                            # when shot is taken on the goal line\n",
    "                            np.where(df['y_loc'] >= 0, 90, -90)\n",
    "                           )\n",
    "\n",
    "# calculate difference in shot angle\n",
    "df['shot_angle_prev'] = df.groupby(['game_id', 'goalie'])['shot_angle'].shift(1).fillna(0)\n",
    "df['shot_angle_diff'] = np.absolute(np.where(df['shot_angle'] < df['shot_angle_prev'],\n",
    "                                                df['shot_angle'] - df['shot_angle_prev'],\n",
    "                                                df['shot_angle_prev'] - df['shot_angle']\n",
    "                                            )\n",
    "                                   )\n",
    "\n",
    "# determine if goalie moved to his right since last shot to attempt to make save\n",
    "df['goalie_move_right'] = np.where(df['shot_angle'] > df['shot_angle_prev'], True, False)\n",
    "\n",
    "# calculate shot distance to goal\n",
    "df['shot_dist'] = round(np.sqrt(np.square(df['x_loc'] - x_goal) + np.square(df['y_loc'])), 2)\n",
    "df['shot_dist_prev'] = df.groupby(['game_id', 'goalie'])['shot_dist'].shift(1).fillna(0)\n",
    "df['shot_dist_diff'] = df['shot_dist'] - df['shot_dist_prev']\n",
    "\n",
    "# get days rest for goalie (if at begining of season, just mark days rest as 5)\n",
    "df_goalies = df[['game_id', 'goalie', 'dateTime']].groupby(['goalie', 'game_id']).first()\n",
    "df_goalies['dateTime_prev'] = df_goalies['dateTime'].shift(1).fillna('1970-01-01T04:00:00Z')\n",
    "df_goalies['goalie_days_rest'] = (pd.to_datetime(df_goalies['dateTime']) - pd.to_datetime(df_goalies['dateTime_prev'])).dt.round(freq='D').dt.days\n",
    "df_goalies['goalie_days_rest'] = np.where(df_goalies['goalie_days_rest'] > 200, \n",
    "                                          5, \n",
    "                                          np.where(df_goalies['goalie_days_rest'] < 0,\n",
    "                                                   5,\n",
    "                                                   df_goalies['goalie_days_rest']\n",
    "                                                  )\n",
    "                                         )\n",
    "df = df.sort_values(by=['goalie', 'game_id']).merge(df_goalies[['goalie_days_rest']], how='left', on=['goalie', 'game_id'])\n",
    "\n",
    "# get player characteristics (age, height, weight, handness) and merge with dataframe\n",
    "## characteristics mined in 'player_miner.ipynb'\n",
    "with open('../data/playerAttributes.json') as f:\n",
    "    attributes = json.load(f)          # read file\n",
    "df_atr = pd.DataFrame(attributes)      # convert to df\n",
    "df_atr.sort_values('id', inplace=True) # sort by id\n",
    "\n",
    "# merge skater attrs\n",
    "df_atr_skaters = df_atr[(df_atr['type']=='Forward') | (df_atr['type']=='Defenseman')]    # filter by skaters\n",
    "df_atr_skaters.columns = [f'shooter_{c}' for c in list(df_atr.columns)]                  # rename columns\n",
    "df = df.sort_values('shooter_id').merge(df_atr_skaters, how='left', on='shooter_id')     # merge \n",
    "df['shooter_age'] = round((pd.to_datetime(df['dateTime'].str[:10]) - \n",
    "                           pd.to_datetime(df['shooter_birthDate'])).dt.days / 365, 1)      # calculate age\n",
    "\n",
    "# merge goalie attrs\n",
    "df_atr_goalies = df_atr[df_atr['type']=='Goalie']                                   # filter by goalies\n",
    "df_atr_goalies.columns = [f'goalie_{c}' for c in list(df_atr.columns)]              # rename columns\n",
    "df = df.sort_values('goalie_id').merge(df_atr_goalies, how='left', on='goalie_id')  # merge \n",
    "df['goalie_age'] = round((pd.to_datetime(df['dateTime'].str[:10]) - \n",
    "                          pd.to_datetime(df['goalie_birthDate'])).dt.days / 365, 1) # calculate age\n",
    "\n",
    "# calculate circadian effects (number of timezones crossed since last game)\n",
    "with open('../data/teamCircadian.json') as f:\n",
    "    d = json.load(f)          # read file\n",
    "df_circ = pd.DataFrame(d)      # convert to df\n",
    "df_circ = df_circ[['game_id', 'team', 'offset_diff']]\n",
    "\n",
    "# merge skater circadian\n",
    "df_circ.columns = ['game_id', 'shooter_team', 'shooter_tzTraveled']\n",
    "df = df.sort_values(['shooter_team', 'game_id']).merge(df_circ, how='left', on=['shooter_team', 'game_id'])\n",
    "\n",
    "# merge goalie circadian\n",
    "df_circ.columns = ['game_id', 'goalie_team', 'goalie_tzTraveled']\n",
    "df = df.sort_values(['goalie_team', 'game_id']).merge(df_circ, how='left', on=['goalie_team', 'game_id'])\n",
    "\n",
    "# generate dummy vars\n",
    "df = pd.get_dummies(df, columns=['shot_type', 'shooter_type', 'shooter_shootsCatches', 'goalie_shootsCatches'])\n",
    "\n",
    "df.head()\n"
   ]
  },
  {
   "cell_type": "code",
   "execution_count": 222,
   "id": "ff433b52",
   "metadata": {},
   "outputs": [],
   "source": [
    "# #### delete columns that are unnecessary ####\n",
    "# cols_to_drop = ['game_id', 'home_team', 'away_team',\n",
    "#                 'dateTime', 'period', 'periodTime',\n",
    "#                 'shooter_team', 'goalie_team', 'strength', \n",
    "#                 'shot_angle_prev', 'shot_dist_prev',\n",
    "#                 'shooter_fullName', 'shooter_birthDate', 'shooter_nationality', 'shooter_primaryPosition',\n",
    "#                 'goalie_fullName', 'goalie_birthDate', 'goalie_nationality', \n",
    "#                 'goalie_primaryPosition', 'goalie_type']\n",
    "# df = df.drop(cols_to_drop, axis=1)\n",
    "\n",
    "# #### delete rows with weird data ####\n",
    "# df = df[df['shooter_height'].isna() == False] # filter rows where it records a goalie shooting puck\n"
   ]
  },
  {
   "cell_type": "code",
   "execution_count": 223,
   "id": "ae5aae0d",
   "metadata": {},
   "outputs": [
    {
     "name": "stdout",
     "output_type": "stream",
     "text": [
      "<class 'pandas.core.frame.DataFrame'>\n",
      "Int64Index: 67650 entries, 0 to 67649\n",
      "Data columns (total 57 columns):\n",
      " #   Column                   Non-Null Count  Dtype  \n",
      "---  ------                   --------------  -----  \n",
      " 0   game_id                  67650 non-null  object \n",
      " 1   home_team                67650 non-null  object \n",
      " 2   away_team                67650 non-null  object \n",
      " 3   dateTime                 67650 non-null  object \n",
      " 4   period                   67650 non-null  int64  \n",
      " 5   periodTime               67650 non-null  object \n",
      " 6   x_loc                    67650 non-null  float64\n",
      " 7   y_loc                    67650 non-null  float64\n",
      " 8   shooter                  67650 non-null  object \n",
      " 9   shooter_id               67650 non-null  int64  \n",
      " 10  shooter_team             67650 non-null  object \n",
      " 11  goalie                   67650 non-null  object \n",
      " 12  goalie_id                67650 non-null  int64  \n",
      " 13  goalie_team              67650 non-null  object \n",
      " 14  is_goal                  67650 non-null  bool   \n",
      " 15  strength                 67650 non-null  object \n",
      " 16  time_seconds             67650 non-null  int64  \n",
      " 17  time_seconds_diff        67650 non-null  float64\n",
      " 18  tot_shots                67650 non-null  int64  \n",
      " 19  shot_angle               67650 non-null  float64\n",
      " 20  shot_angle_prev          67650 non-null  float64\n",
      " 21  shot_angle_diff          67650 non-null  float64\n",
      " 22  goalie_move_right        67650 non-null  bool   \n",
      " 23  shot_dist                67650 non-null  float64\n",
      " 24  shot_dist_prev           67650 non-null  float64\n",
      " 25  shot_dist_diff           67650 non-null  float64\n",
      " 26  goalie_days_rest         67650 non-null  int64  \n",
      " 27  shooter_fullName         67646 non-null  object \n",
      " 28  shooter_birthDate        67646 non-null  object \n",
      " 29  shooter_nationality      67646 non-null  object \n",
      " 30  shooter_height           67646 non-null  float64\n",
      " 31  shooter_weight           67646 non-null  float64\n",
      " 32  shooter_primaryPosition  67646 non-null  object \n",
      " 33  shooter_age              67646 non-null  float64\n",
      " 34  goalie_fullName          67650 non-null  object \n",
      " 35  goalie_birthDate         67650 non-null  object \n",
      " 36  goalie_nationality       67650 non-null  object \n",
      " 37  goalie_height            67650 non-null  int64  \n",
      " 38  goalie_weight            67650 non-null  int64  \n",
      " 39  goalie_primaryPosition   67650 non-null  object \n",
      " 40  goalie_type              67650 non-null  object \n",
      " 41  goalie_age               67650 non-null  float64\n",
      " 42  shooter_tzTraveled       67650 non-null  int64  \n",
      " 43  goalie_tzTraveled        67650 non-null  int64  \n",
      " 44  shot_type_Backhand       67650 non-null  uint8  \n",
      " 45  shot_type_Deflected      67650 non-null  uint8  \n",
      " 46  shot_type_Slap Shot      67650 non-null  uint8  \n",
      " 47  shot_type_Snap Shot      67650 non-null  uint8  \n",
      " 48  shot_type_Tip-In         67650 non-null  uint8  \n",
      " 49  shot_type_Wrap-around    67650 non-null  uint8  \n",
      " 50  shot_type_Wrist Shot     67650 non-null  uint8  \n",
      " 51  shooter_type_Defenseman  67650 non-null  uint8  \n",
      " 52  shooter_type_Forward     67650 non-null  uint8  \n",
      " 53  shooter_shootsCatches_L  67650 non-null  uint8  \n",
      " 54  shooter_shootsCatches_R  67650 non-null  uint8  \n",
      " 55  goalie_shootsCatches_L   67650 non-null  uint8  \n",
      " 56  goalie_shootsCatches_R   67650 non-null  uint8  \n",
      "dtypes: bool(2), float64(13), int64(10), object(19), uint8(13)\n",
      "memory usage: 23.2+ MB\n"
     ]
    }
   ],
   "source": [
    "df.info()"
   ]
  },
  {
   "cell_type": "markdown",
   "id": "475303c4",
   "metadata": {},
   "source": [
    "### Exploratory Data Analysis <a class=\"anchor\" id=\"4\"></a>"
   ]
  },
  {
   "cell_type": "markdown",
   "id": "c23617d7",
   "metadata": {},
   "source": [
    "##### Shot Timeline and Shot Outcome <a class=\"anchor\" id=\"4.1\"></a>"
   ]
  },
  {
   "cell_type": "code",
   "execution_count": 381,
   "id": "66adb95c",
   "metadata": {
    "scrolled": false
   },
   "outputs": [
    {
     "data": {
      "image/png": "[encoded data removed]",
      "text/plain": [
       "<Figure size 432x288 with 4 Axes>"
      ]
     },
     "metadata": {
      "needs_background": "light"
     },
     "output_type": "display_data"
    }
   ],
   "source": [
    "df_tmp = df[df['goalie']=='Frederik Andersen'].sort_values(['game_id', 'time_seconds'])\n",
    "game_ids = df_tmp['game_id'].unique().tolist()[0:4] # get list of four games\n",
    "\n",
    "# initiate plots\n",
    "fig = plt.figure()\n",
    "subs = [221,222,223,224]\n",
    "\n",
    "for i in range(0,len(game_ids)):\n",
    "    df_tmp2 = df_tmp[df_tmp['game_id']==game_ids[i]]\n",
    "    date = df_tmp2['dateTime'].iloc[0][0:10]\n",
    "    color = ['red' if goal else 'green' for goal in df_tmp2['is_goal'] ]\n",
    "\n",
    "    ax=fig.add_subplot(subs[i])\n",
    "    ax.scatter(df_tmp2['time_seconds'], df_tmp2['tot_shots'], c=color)\n",
    "    ax.plot(df_tmp2['time_seconds'], df_tmp2['tot_shots'], color='green')\n",
    "    plt.title(f'Fred Anderson Shots Faced on {date}')\n",
    "    plt.xlabel(\"Time in Seconds\")\n",
    "    plt.ylabel(\"Total Shots\")\n",
    "\n",
    "plt.subplots_adjust(top=2, right=2)\n",
    "plt.show()"
   ]
  },
  {
   "cell_type": "markdown",
   "id": "b10fa286",
   "metadata": {},
   "source": [
    "The above grid of charts shows the time differential between shots, along with goals allowed colored in red. It is imagined that when goalies do not see a shot for some time, they become 'cold' which can cause the next shot to have a higher percentage of beating them. Therefore, we will extract the difference in time between shots faced by goalies as a feature of our model.\n",
    "\n",
    "##### Shot Location and Shot Outcome <a class=\"anchor\" id=\"4.2\"></a>"
   ]
  },
  {
   "cell_type": "code",
   "execution_count": 382,
   "id": "17e461a8",
   "metadata": {
    "scrolled": false
   },
   "outputs": [
    {
     "data": {
      "image/png": "[encoded data removed]",
      "text/plain": [
       "<Figure size 432x288 with 4 Axes>"
      ]
     },
     "metadata": {
      "needs_background": "light"
     },
     "output_type": "display_data"
    }
   ],
   "source": [
    "df_tmp = df[df['goalie']=='Frederik Andersen'].sort_values(['game_id', 'time_seconds'])\n",
    "game_ids = df_tmp['game_id'].unique().tolist()[0:4] # get list of four games\n",
    "\n",
    "# initiate plots\n",
    "fig = plt.figure()\n",
    "subs = [221,222,223,224]\n",
    "\n",
    "for i in range(0,len(game_ids)):\n",
    "    df_tmp2 = df_tmp[df_tmp['game_id']==game_ids[i]]\n",
    "    date = df_tmp2['dateTime'].iloc[0][0:10]\n",
    "\n",
    "    # read img (retrieved from https://thewincolumn.ca/2021/01/15/r-tutorial-creating-an-nhl-rink-using-the-tidyverse/)\n",
    "    img = plt.imread(\"../data/images/nhl_rink_plot_output_light.png\")\n",
    "    ax = fig.add_subplot(subs[i])\n",
    "    ax.imshow(img, extent=[0, 100, -42.5, 42.5])\n",
    "\n",
    "    # plot\n",
    "    goals = ax.scatter(df_tmp2[df_tmp2['is_goal']==True]['x_loc'], \n",
    "                        df_tmp2[df_tmp2['is_goal']==True]['y_loc'], \n",
    "                        c='red', \n",
    "                        label='Goals')\n",
    "    non_goals = ax.scatter(df_tmp2[df_tmp2['is_goal']==False]['x_loc'], \n",
    "                            df_tmp2[df_tmp2['is_goal']==False]['y_loc'], \n",
    "                            c='green', \n",
    "                            label='Saves')\n",
    "    plt.title(f'Fred Anderson Shots Faced on {date}')\n",
    "    plt.xlabel(\"x_location\")\n",
    "    plt.ylabel(\"y_location\")\n",
    "    ax.legend()\n",
    "\n",
    "plt.subplots_adjust(top=2, right=2)\n",
    "plt.show()"
   ]
  },
  {
   "cell_type": "markdown",
   "id": "3e55c7b4",
   "metadata": {},
   "source": [
    "Above we see charts of shot location and outcome of shot. Shot location is likely the most influential feature of an expected goals model. To add additional detail to shot coordiantes, we will create features to represent the distance of a shot to the net and the angle of a shot (compared to the slot).\n",
    "\n",
    "##### Change in Shot Angle vs Shot Outcome <a class=\"anchor\" id=\"4.3\"></a>"
   ]
  },
  {
   "cell_type": "code",
   "execution_count": 388,
   "id": "68182a59",
   "metadata": {},
   "outputs": [
    {
     "data": {
      "image/png": "[encoded data removed]",
      "text/plain": [
       "<Figure size 432x288 with 1 Axes>"
      ]
     },
     "metadata": {
      "needs_background": "light"
     },
     "output_type": "display_data"
    }
   ],
   "source": [
    "df_rebounds = df[df['time_seconds_diff'] <= 2].copy() # get shots with previous shot taken in past 3 seconds\n",
    "# df_rebounds = df_rebounds[df_rebounds['goalie'] != ''] # filter empty netters\n",
    "\n",
    "fig, ax = plt.subplots()\n",
    "\n",
    "bins = list(np.linspace(0,200,11))\n",
    "non_goals = plt.hist(df_rebounds['shot_angle_diff'],\n",
    "                        color='#A2AAAD',\n",
    "                        label='Total Shots',\n",
    "                        bins=bins)\n",
    "goals = plt.hist(df_rebounds[df_rebounds['is_goal'] == True]['shot_angle_diff'],\n",
    "                color='#CC0000',\n",
    "                label='Goals',\n",
    "                bins=bins)\n",
    "\n",
    "plt.title('Proportion of Goals Scored on Rebound Shots\\n(Shots Taken Within 2 Seconds of Previous Shot)')\n",
    "plt.xlabel(\"Change in Angle Since Previous Shot\")\n",
    "plt.ylabel(\"Count\")\n",
    "ax.legend()\n",
    "\n",
    "# create labels\n",
    "rects = ax.patches\n",
    "labels = []\n",
    "for i in range(len(goals[0])):\n",
    "    labels.append(round(goals[0][i] / non_goals[0][i] * 100,1))\n",
    "\n",
    "\n",
    "# apply labels\n",
    "for rect, label in zip(rects, labels):\n",
    "    height = rect.get_height()\n",
    "    text_color = 'black'\n",
    "    ax.text(rect.get_x() + rect.get_width() / 2, height + 5, str(label)+'%',\n",
    "            ha='center', va='bottom', color=text_color)\n",
    "    \n",
    "plt.subplots_adjust(top=2, right=2)\n",
    "plt.show()"
   ]
  },
  {
   "cell_type": "markdown",
   "id": "042a18fb",
   "metadata": {},
   "source": [
    "Above we see a histogram of change and shot angle and proportion of succesful shots. We see that as we increase the change in angle, the proportion of succesful shots increases. This will certainly be a feature to include in our model.\n",
    "\n",
    "##### Change in Timezone and Effect on Shot Outcome <a class=\"anchor\" id=\"4.4\"></a>"
   ]
  },
  {
   "cell_type": "code",
   "execution_count": 384,
   "id": "832a09d5",
   "metadata": {},
   "outputs": [
    {
     "data": {
      "image/png": "[encoded data removed]",
      "text/plain": [
       "<Figure size 432x288 with 2 Axes>"
      ]
     },
     "metadata": {
      "needs_background": "light"
     },
     "output_type": "display_data"
    }
   ],
   "source": [
    "# get timezone differential and number of goals for skaters / number of goals against for goalies \n",
    "df_tmp = df[['is_goal', 'shooter_tzTraveled', 'goalie_tzTraveled']].copy() \n",
    "df_tmp.groupby('goalie_tzTraveled')['is_goal'].sum()\n",
    "timezones = sorted(df_tmp['shooter_tzTraveled'].unique())\n",
    "\n",
    "# extract data as arrays\n",
    "timezones_skater_shots = df_tmp.groupby('shooter_tzTraveled').size().values\n",
    "timezones_skater_goals = df_tmp.groupby('shooter_tzTraveled')['is_goal'].sum().values\n",
    "timezones_goalie_shots = df_tmp.groupby('goalie_tzTraveled').size().values\n",
    "timezones_goalie_goals = df_tmp.groupby('goalie_tzTraveled')['is_goal'].sum().values\n",
    "\n",
    "fig = plt.figure()\n",
    "\n",
    "#### create skater performance plot ###\n",
    "ax1 = fig.add_subplot(121)\n",
    "skater_shots = ax1.bar(timezones, timezones_skater_shots,\n",
    "                color='#000000',\n",
    "                label='Shots')\n",
    "skater_goals = ax1.bar(timezones, timezones_skater_goals,\n",
    "                color='#FFB81C',\n",
    "                label='Goals')\n",
    "ax1.legend()\n",
    "plt.title('Effect of Travel on Skaters')\n",
    "plt.xlabel(\"Change in Timezone Since Previous Game\\n(negative is traveling west-ward)\")\n",
    "plt.ylabel(\"Count\")\n",
    "\n",
    "# print goal percentage for each timezone\n",
    "rects = ax1.patches # create labels\n",
    "labels = []\n",
    "for i in range(len(timezones_skater_shots)):\n",
    "    labels.append(round(timezones_skater_goals[i] / timezones_skater_shots[i] * 100,1))\n",
    "for rect, label in zip(rects, labels): # apply labels\n",
    "    height = rect.get_height()\n",
    "    text_color = 'black'\n",
    "    ax1.text(rect.get_x() + rect.get_width() / 2, height + 5, str(label)+'%',\n",
    "            ha='center', va='bottom', color=text_color)\n",
    "    \n",
    "    \n",
    "    \n",
    "#### create goalie performance plot ####\n",
    "ax2 = fig.add_subplot(122)\n",
    "goalie_shots = ax2.bar(timezones, timezones_goalie_shots,\n",
    "                color='#000000',\n",
    "                label='Shots')\n",
    "goalie_goals = ax2.bar(timezones, timezones_goalie_goals,\n",
    "                color='#FFB81C',\n",
    "                label='Goals')\n",
    "ax2.legend()\n",
    "plt.title('Effect of Travel on Goalies')\n",
    "plt.xlabel(\"Change in Timezone Since Previous Game\\n(negative is traveling west-ward)\")\n",
    "plt.ylabel(\"Count\")\n",
    "\n",
    "# print goal percentage for each timezone\n",
    "rects = ax2.patches # create labels\n",
    "labels = []\n",
    "for i in range(len(timezones_goalie_shots)):\n",
    "    labels.append(round(timezones_goalie_goals[i] / timezones_skater_shots[i] * 100,1))\n",
    "for rect, label in zip(rects, labels): # apply labels\n",
    "    height = rect.get_height()\n",
    "    text_color = 'black'\n",
    "    ax2.text(rect.get_x() + rect.get_width() / 2, height + 5, str(label)+'%',\n",
    "            ha='center', va='bottom', color=text_color)\n",
    "\n",
    "\n",
    "plt.subplots_adjust(top=1.5, right=2)\n",
    "plt.show()"
   ]
  },
  {
   "cell_type": "markdown",
   "id": "c0971925",
   "metadata": {},
   "source": [
    "Above we see a breakdown of the effects of travel across timezone on skaters' goal scoring ability and goaltenders' puck saving ability. The data is dominated by the class of 'travel between 0 timezones'. Either way, there does not seem to be strong correlation between travel effects and shooting percentage -- at least on the surface. We will allow our models to conclude on the importance of this variable as there might be some interaction effects at play.\n",
    "\n",
    "##### Shot Type and Shot Outcome <a class=\"anchor\" id=\"4.5\"></a>"
   ]
  },
  {
   "cell_type": "code",
   "execution_count": 386,
   "id": "44e6c8c3",
   "metadata": {},
   "outputs": [
    {
     "data": {
      "image/png": "[encoded data removed]",
      "text/plain": [
       "<Figure size 432x288 with 1 Axes>"
      ]
     },
     "metadata": {
      "needs_background": "light"
     },
     "output_type": "display_data"
    }
   ],
   "source": [
    "# get goal counts for each type of shot\n",
    "df_tmp = df[['is_goal', 'shot_type_Backhand', 'shot_type_Deflected', 'shot_type_Slap Shot',\n",
    "            'shot_type_Snap Shot', 'shot_type_Tip-In', 'shot_type_Wrap-around', 'shot_type_Wrist Shot']].copy() \n",
    "\n",
    "# extract data as arrays\n",
    "x_labels = ['Backhand', 'Deflected', 'Slap Shot', 'Snap Shot', 'Tip-In', 'Wrap-around', 'Wrist Shot']\n",
    "goals = df_tmp[df_tmp['is_goal']].sum()[1:].values\n",
    "all_shots = df_tmp.sum()[1:].values\n",
    "\n",
    "fig = plt.figure()\n",
    "\n",
    "#### create skater performance plot ###\n",
    "ax1 = fig.add_subplot()\n",
    "skater_shots = ax1.bar(x_labels, all_shots,\n",
    "                color='#A2AAAD',\n",
    "                label='Shots')\n",
    "skater_goals = ax1.bar(x_labels, goals,\n",
    "                color='#046A38',\n",
    "                label='Goals')\n",
    "ax1.legend()\n",
    "plt.title('Shot Type Success')\n",
    "plt.xlabel(\"\")\n",
    "plt.ylabel(\"Count\")\n",
    "plt.xticks(rotation=30)\n",
    "\n",
    "# print goal percentage for each timezone\n",
    "rects = ax1.patches # create labels\n",
    "labels = []\n",
    "for i in range(len(goals)):\n",
    "    labels.append(round(goals[i] / all_shots[i] * 100,1))\n",
    "for rect, label in zip(rects, labels): # apply labels\n",
    "    height = rect.get_height()\n",
    "    text_color = 'black'\n",
    "    ax1.text(rect.get_x() + rect.get_width() / 2, height + 5, str(label)+'%',\n",
    "            ha='center', va='bottom', color=text_color)\n",
    "\n",
    "plt.subplots_adjust(top=1.5, right=2)\n",
    "plt.show()"
   ]
  },
  {
   "cell_type": "markdown",
   "id": "8696994a",
   "metadata": {},
   "source": [
    "Viewing the shot type success rates, it appears that deflections and tip-ins -- although two of the more uncommon shot types -- are the most succesful. Perhaps this is due to random effects. We will expect our models to rely heavily on shot type as a feature. "
   ]
  },
  {
   "cell_type": "markdown",
   "id": "10a57c6f",
   "metadata": {},
   "source": [
    "### Model Building <a class=\"anchor\" id=\"5\"></a>"
   ]
  },
  {
   "cell_type": "code",
   "execution_count": 54,
   "id": "f5c4c354",
   "metadata": {},
   "outputs": [],
   "source": [
    "# model selection\n",
    "from sklearn.model_selection import train_test_split, GridSearchCV\n",
    "\n",
    "# linear models\n",
    "from sklearn.linear_model import LinearRegression, \n",
    "                                    LogisticRegression, LogisticRegressionCV, \n",
    "                                    Ridge, RidgeCV, \n",
    "                                    Lasso, LassoCV\n",
    "            \n",
    "# tree based models            \n",
    "from sklearn.tree import DecisionTreeRegressor\n",
    "from sklearn.ensemble import BaggingRegressor, RandomForestRegressor, GradientBoostingRegressor\n",
    "\n",
    "\n",
    "# other stuff\n",
    "from sklearn import metrics\n",
    "from sklearn.preprocessing import MinMaxScaler\n",
    "from sklearn.metrics import make_scorer"
   ]
  },
  {
   "cell_type": "markdown",
   "id": "e181587a",
   "metadata": {},
   "source": [
    "##### Test Train Split <a class=\"anchor\" id=\"5.1\"></a>"
   ]
  },
  {
   "cell_type": "code",
   "execution_count": 211,
   "id": "e551fd64",
   "metadata": {},
   "outputs": [],
   "source": [
    "#### delete columns that are unnecessary ####\n",
    "cols_to_drop = ['game_id', 'home_team', 'away_team',\n",
    "                'dateTime', 'period', 'periodTime',\n",
    "                'shooter_team', 'goalie_team', 'strength', \n",
    "                'shot_angle_prev', 'shot_dist_prev',\n",
    "                'shooter_fullName', 'shooter_birthDate', 'shooter_nationality', 'shooter_primaryPosition',\n",
    "                'goalie_fullName', 'goalie_birthDate', 'goalie_nationality', \n",
    "                'goalie_primaryPosition', 'goalie_type']\n",
    "df = df.drop(cols_to_drop, axis=1)\n",
    "\n",
    "#### delete rows with weird data ####\n",
    "df = df[df['shooter_height'].isna() == False] # filter rows where it records a goalie shooting puck\n"
   ]
  },
  {
   "cell_type": "code",
   "execution_count": 212,
   "id": "289ed62b",
   "metadata": {},
   "outputs": [],
   "source": [
    "df_tmp = df.copy()\n",
    "df_results = df_tmp[['shooter', 'shooter_id', 'goalie', 'goalie_id', 'is_goal']] # use this to score model performance\n",
    "df_tmp.drop(['shooter', 'shooter_id', 'goalie', 'goalie_id'], axis=1, inplace=True)\n",
    "y = df_tmp.pop('is_goal')\n",
    "X = df_tmp.copy()\n",
    "\n",
    "# test train split\n",
    "X_train, X_test, y_train, y_test = train_test_split(X, y, test_size=0.3, random_state=123)\n",
    "\n",
    "# test train split - normalized data\n",
    "scaler = MinMaxScaler()  # initialize scaler\n",
    "X_scaled = df_tmp.copy() # copy dataframe\n",
    "X_scaled[list(X_scaled.columns)] = scaler.fit_transform(X_scaled[list(X_scaled.columns)]) # scale all columns\n",
    "X_train_scaled, X_test_scaled, y_train_scaled, y_test_scaled = train_test_split(X, \n",
    "                                                                                y, \n",
    "                                                                                test_size=0.3, \n",
    "                                                                                random_state=123) # test/train split"
   ]
  },
  {
   "cell_type": "markdown",
   "id": "923699ef",
   "metadata": {},
   "source": [
    "###### Model Training <a class=\"anchor\" id=\"5.2\"></a>\n",
    "* Linear Models\n",
    "    * Linear Regression\n",
    "    * Logistic Regression\n",
    "    * Ridge Regression\n",
    "    * Lasso Regression\n",
    "* Tree-Based Models\n",
    "    * placeholder"
   ]
  },
  {
   "cell_type": "code",
   "execution_count": 213,
   "id": "a98edf16",
   "metadata": {},
   "outputs": [],
   "source": [
    "def get_rmse(probabilities, shotta, y_test):\n",
    "    \n",
    "    # get list of shots tested, add column of shot probability predictions\n",
    "    df_test = pd.DataFrame(y_test)\n",
    "    df_test['is_goal_probability'] = probabilities\n",
    "    df_test.sort_index(inplace=True)\n",
    "\n",
    "    # join with original dataframe containing skater/goalie names, and shot results\n",
    "    df_test = df_results[df_results.index.isin(df_test.index)].join(df_test[['is_goal_probability']])\n",
    "\n",
    "    # get expected goals for each skater\n",
    "    groups = ['goalie_id', 'goalie']\n",
    "    if shotta:\n",
    "        groups = ['shooter_id', 'shooter']\n",
    "    test_results = df_test.groupby(groups)[['is_goal', 'is_goal_probability']].sum().sort_values('is_goal', ascending=False)\n",
    "    test_results['error'] = test_results['is_goal_probability'] - test_results['is_goal']\n",
    "    rmse = np.sqrt(np.mean(np.square(test_results['error'])))\n",
    "    return rmse\n",
    "\n",
    "# custom scoring function\n",
    "def my_custom_loss_func(y_test, y_pred):\n",
    "    return get_rmse(y_pred, False, y_test)\n",
    "custom_scorer = make_scorer(my_custom_loss_func, greater_is_better=False)"
   ]
  },
  {
   "cell_type": "code",
   "execution_count": 214,
   "id": "94edab8b",
   "metadata": {},
   "outputs": [
    {
     "data": {
      "text/plain": [
       "LinearRegression()"
      ]
     },
     "execution_count": 214,
     "metadata": {},
     "output_type": "execute_result"
    }
   ],
   "source": [
    "#### linear regression ####\n",
    "\n",
    "# initiate model\n",
    "linreg = LinearRegression()\n",
    "\n",
    "# fit model\n",
    "linreg.fit(X_train, y_train)"
   ]
  },
  {
   "cell_type": "code",
   "execution_count": 215,
   "id": "4d67baa6",
   "metadata": {},
   "outputs": [
    {
     "name": "stderr",
     "output_type": "stream",
     "text": [
      "/Users/williamshaw/Projects/NHL/nhl_overtime_eda/env/lib/python3.8/site-packages/sklearn/linear_model/_logistic.py:814: ConvergenceWarning: lbfgs failed to converge (status=1):\n",
      "STOP: TOTAL NO. of ITERATIONS REACHED LIMIT.\n",
      "\n",
      "Increase the number of iterations (max_iter) or scale the data as shown in:\n",
      "    https://scikit-learn.org/stable/modules/preprocessing.html\n",
      "Please also refer to the documentation for alternative solver options:\n",
      "    https://scikit-learn.org/stable/modules/linear_model.html#logistic-regression\n",
      "  n_iter_i = _check_optimize_result(\n"
     ]
    },
    {
     "data": {
      "text/plain": [
       "LogisticRegression(max_iter=200)"
      ]
     },
     "execution_count": 215,
     "metadata": {},
     "output_type": "execute_result"
    }
   ],
   "source": [
    "#### logistic regression ####\n",
    "\n",
    "# initiate model\n",
    "logit = LogisticRegression(max_iter=200)\n",
    "\n",
    "# fit model\n",
    "logit.fit(X_train_scaled, y_train_scaled)"
   ]
  },
  {
   "cell_type": "code",
   "execution_count": 23,
   "id": "74c0494a",
   "metadata": {},
   "outputs": [],
   "source": [
    "#### ridge regression ####\n",
    "\n",
    "# initiate the cross validation over alphas\n",
    "r_alphas = np.logspace(0, 5, 50)\n",
    "ridgereg = RidgeCV(cv=5, \n",
    "                   alphas=r_alphas, \n",
    "                   scoring=custom_scorer)\n",
    "\n",
    "# fit the model with the best alpha\n",
    "ridgereg = ridgereg.fit(X_train_scaled, y_train_scaled)"
   ]
  },
  {
   "cell_type": "code",
   "execution_count": 88,
   "id": "c6b8c45e",
   "metadata": {},
   "outputs": [],
   "source": [
    "#### lasso regression ####\n",
    "\n",
    "# initiate the cross validation over alphas\n",
    "alphas = np.array([5, 0.5, 0.05, 0.005, 0.0005, 1, 0.1, 0.01, 0.001, 0.0001])\n",
    "grid = GridSearchCV(estimator=Lasso(), \n",
    "                    cv=5,\n",
    "                    param_grid=dict(alpha=alphas), \n",
    "                    scoring=custom_scorer)\n",
    "\n",
    "# fit the model with the best alpha\n",
    "lassoreg = grid.fit(X_train_scaled, y_train_scaled)"
   ]
  },
  {
   "cell_type": "code",
   "execution_count": 159,
   "id": "53129c4a",
   "metadata": {},
   "outputs": [],
   "source": [
    "#### decision tree ####\n",
    "\n",
    "# use 5-fold cv to get optimal set of hyperparams\n",
    "param_grid = {\"criterion\": ['squared_error'],\n",
    "              \"min_samples_split\": [10, 20, 40],\n",
    "              \"max_depth\": [2, 4, 8, 16, 32],\n",
    "              \"min_samples_leaf\": [20],\n",
    "              \"max_leaf_nodes\": [5, 20, 100],\n",
    "              }\n",
    "grid_dtm = GridSearchCV(DecisionTreeRegressor(random_state = 123), \n",
    "                        cv=5,\n",
    "                        param_grid=param_grid, \n",
    "                        scoring=custom_scorer)\n",
    "\n",
    "# fit the model\n",
    "grid_dtm = grid_dtm.fit(X_train, y_train)\n",
    "dtm = grid_dtm.best_estimator_"
   ]
  },
  {
   "cell_type": "code",
   "execution_count": 150,
   "id": "ff08214b",
   "metadata": {},
   "outputs": [],
   "source": [
    "#### bagged tree ####\n",
    "\n",
    "# use 5-fold cv to get optimal set of hyperparams\n",
    "param_grid = {\"n_estimators\": [200, 500, 1000],\n",
    "              \"max_features\": [1, 2, 3]\n",
    "              }\n",
    "grid_bagtm = GridSearchCV(estimator=BaggingRegressor(n_jobs=-1, random_state=123), \n",
    "                          cv=5,\n",
    "                          param_grid=param_grid, \n",
    "                          scoring=custom_scorer)\n",
    "\n",
    "# fit the model\n",
    "grid_bagtm = grid_bagtm.fit(X_train, y_train)\n",
    "bagtm = grid_bagtm.best_estimator_"
   ]
  },
  {
   "cell_type": "code",
   "execution_count": 171,
   "id": "7b464c02",
   "metadata": {},
   "outputs": [],
   "source": [
    "#### random forest tree ####\n",
    "\n",
    "# use 5-fold cv to get optimal set of hyperparams\n",
    "param_grid = {\"n_estimators\": [200, 500, 1000],\n",
    "              \"max_depth\": [1, 2, 3]\n",
    "              }\n",
    "grid_rftm = GridSearchCV(estimator=RandomForestRegressor(max_features='sqrt', n_jobs=-1, random_state=123), \n",
    "                          cv=5,\n",
    "                          param_grid=param_grid, \n",
    "                          scoring=custom_scorer)\n",
    "\n",
    "# fit the model\n",
    "grid_rftm = grid_rftm.fit(X_train, y_train)\n",
    "rftm = grid_rftm.best_estimator_"
   ]
  },
  {
   "cell_type": "code",
   "execution_count": 172,
   "id": "d0aede38",
   "metadata": {},
   "outputs": [
    {
     "data": {
      "text/plain": [
       "RandomForestRegressor(max_depth=3, max_features='sqrt', n_estimators=500,\n",
       "                      n_jobs=-1, random_state=123)"
      ]
     },
     "execution_count": 172,
     "metadata": {},
     "output_type": "execute_result"
    }
   ],
   "source": [
    "rftm"
   ]
  },
  {
   "cell_type": "code",
   "execution_count": 185,
   "id": "ac8b6d00",
   "metadata": {},
   "outputs": [],
   "source": [
    "#### boosted tree ####\n",
    "\n",
    "# use 5-fold cv to get optimal set of hyperparams\n",
    "param_grid = {\"n_estimators\": [200, 500, 1000],\n",
    "              \"max_depth\": [1, 2, 3],\n",
    "              \"alpha\": [0.01, 0.1, 0.9, 0.99]\n",
    "              }\n",
    "grid_boosttm = GridSearchCV(estimator=GradientBoostingRegressor(max_features='sqrt', random_state=123), \n",
    "                          cv=5,\n",
    "                          param_grid=param_grid, \n",
    "                          scoring=custom_scorer)\n",
    "\n",
    "# fit the model\n",
    "grid_boosttm = grid_boosttm.fit(X_train, y_train)\n",
    "boosttm = grid_boosttm.best_estimator_"
   ]
  },
  {
   "cell_type": "code",
   "execution_count": 186,
   "id": "ec0911ff",
   "metadata": {},
   "outputs": [
    {
     "data": {
      "text/plain": [
       "GradientBoostingRegressor(alpha=0.01, max_depth=2, max_features='sqrt',\n",
       "                          n_estimators=200, random_state=123)"
      ]
     },
     "execution_count": 186,
     "metadata": {},
     "output_type": "execute_result"
    }
   ],
   "source": [
    "boosttm"
   ]
  },
  {
   "cell_type": "code",
   "execution_count": null,
   "id": "9dd95426",
   "metadata": {},
   "outputs": [],
   "source": []
  },
  {
   "cell_type": "code",
   "execution_count": null,
   "id": "9b4cb99c",
   "metadata": {},
   "outputs": [],
   "source": []
  },
  {
   "cell_type": "markdown",
   "id": "9a6a3706",
   "metadata": {},
   "source": [
    "##### Model Testing <a class=\"anchor\" id=\"5.3\"></a>\n"
   ]
  },
  {
   "cell_type": "code",
   "execution_count": 90,
   "id": "428b2919",
   "metadata": {},
   "outputs": [],
   "source": [
    "def get_shooter_rmse(probabilities, y_test):\n",
    "    return get_rmse(probabilities, True, y_test)\n",
    "\n",
    "def get_goalie_rmse(probabilities, y_test):\n",
    "    return get_rmse(probabilities, False, y_test)\n",
    "\n",
    "def print_rmse(probabilities, y_test):\n",
    "    print(f'Skaters RMSE: {get_shooter_rmse(probabilities, y_test)}')\n",
    "    print(f'Goalies RMSE: {get_goalie_rmse(probabilities, y_test)}\\n')\n"
   ]
  },
  {
   "cell_type": "code",
   "execution_count": 91,
   "id": "bb097774",
   "metadata": {},
   "outputs": [
    {
     "name": "stdout",
     "output_type": "stream",
     "text": [
      "Linear Regression:\n",
      "Skaters RMSE: 1.521962995754401\n",
      "Goalies RMSE: 5.15361159298436\n",
      "\n",
      "Logistic Regression:\n",
      "Skaters RMSE: 1.5697964243087938\n",
      "Goalies RMSE: 4.910782206272717\n",
      "\n",
      "Ridge Regression with alpha=1842.07:\n",
      "Skaters RMSE: 1.528139129485812\n",
      "Goalies RMSE: 5.145210754969982\n",
      "\n",
      "Lasso Regression with alpha=0.0005:\n",
      "Skaters RMSE: 1.5265968424127154\n",
      "Goalies RMSE: 5.138115849758203\n",
      "\n"
     ]
    }
   ],
   "source": [
    "#### Linear Regression Testing ####\n",
    "pred = linreg.predict(X_test)\n",
    "print('Linear Regression:')\n",
    "print_rmse(pred, y_test)\n",
    "\n",
    "#### Logistic Regression Testing ####\n",
    "probs = logit.predict_proba(X_test_scaled)\n",
    "pred = pd.DataFrame(probs)[1].values\n",
    "print('Logistic Regression:')\n",
    "print_rmse(pred, y_test_scaled)\n",
    "\n",
    "#### Ridge Regression Testing ####\n",
    "pred = ridgereg.predict(X_test_scaled)\n",
    "print(f'Ridge Regression with alpha={round(ridgereg.alpha_, 2)}:')\n",
    "print_rmse(pred, y_test_scaled)\n",
    "\n",
    "#### Lasso Regression Testing ####\n",
    "pred = lassoreg.predict(X_test_scaled)\n",
    "print(f'Lasso Regression with alpha={lassoreg.best_estimator_.alpha}:')\n",
    "print_rmse(pred, y_test_scaled)"
   ]
  },
  {
   "cell_type": "code",
   "execution_count": null,
   "id": "04efe027",
   "metadata": {},
   "outputs": [],
   "source": []
  },
  {
   "cell_type": "code",
   "execution_count": null,
   "id": "ab403da1",
   "metadata": {},
   "outputs": [],
   "source": []
  },
  {
   "cell_type": "code",
   "execution_count": 188,
   "id": "5e2fc7e2",
   "metadata": {},
   "outputs": [
    {
     "name": "stdout",
     "output_type": "stream",
     "text": [
      "Decision Tree Regressor\n",
      "Skaters RMSE: 1.5553747849405002\n",
      "Goalies RMSE: 4.963484659157325\n",
      "\n",
      "Bagged Tree Regressor\n",
      "Skaters RMSE: 1.6546155037303218\n",
      "Goalies RMSE: 4.972734136930014\n",
      "\n",
      "Random Forest Tree Regressor\n",
      "Skaters RMSE: 1.5573718395266187\n",
      "Goalies RMSE: 4.91311145026268\n",
      "\n",
      "Boosted Tree Regressor\n",
      "Skaters RMSE: 1.522290190690305\n",
      "Goalies RMSE: 4.966133627902857\n",
      "\n"
     ]
    }
   ],
   "source": [
    "#### Decision Tree Regressor Testing ####\n",
    "pred = dtm.predict(X_test)\n",
    "print(f'Decision Tree Regressor')\n",
    "print_rmse(pred, y_test)\n",
    "\n",
    "#### Bagged Tree Regressor Testing ####\n",
    "pred = bagtm.predict(X_test)\n",
    "print(f'Bagged Tree Regressor')\n",
    "print_rmse(pred, y_test)\n",
    "\n",
    "#### Random Forest Tree Regressor Testing ####\n",
    "pred = rftm.predict(X_test)\n",
    "print(f'Random Forest Tree Regressor')\n",
    "print_rmse(pred, y_test)\n",
    "\n",
    "#### Boosted Tree Regressor Testing ####\n",
    "pred = boosttm.predict(X_test)\n",
    "print(f'Boosted Tree Regressor')\n",
    "print_rmse(pred, y_test)"
   ]
  },
  {
   "cell_type": "code",
   "execution_count": null,
   "id": "ccd4bb26",
   "metadata": {},
   "outputs": [],
   "source": []
  },
  {
   "cell_type": "code",
   "execution_count": null,
   "id": "d33a622c",
   "metadata": {},
   "outputs": [],
   "source": []
  },
  {
   "cell_type": "code",
   "execution_count": null,
   "id": "afff886f",
   "metadata": {},
   "outputs": [],
   "source": []
  },
  {
   "cell_type": "code",
   "execution_count": null,
   "id": "2ab24693",
   "metadata": {},
   "outputs": [],
   "source": []
  },
  {
   "cell_type": "markdown",
   "id": "9692303e",
   "metadata": {},
   "source": [
    "### Final Model and Comparison <a class=\"anchor\" id=\"6\"></a>"
   ]
  },
  {
   "cell_type": "code",
   "execution_count": null,
   "id": "fc0ae9e1",
   "metadata": {},
   "outputs": [],
   "source": []
  },
  {
   "cell_type": "code",
   "execution_count": null,
   "id": "ace048de",
   "metadata": {},
   "outputs": [],
   "source": [
    "\n",
    "\n",
    "\n",
    "\n",
    "\n",
    "\n",
    "\n",
    "\n",
    "\n",
    "\n",
    "\n",
    "\n",
    "\n",
    "\n",
    "\n",
    "\n",
    "\n",
    "\n",
    "\n",
    "\n",
    "\n",
    "\n",
    "\n",
    "\n",
    "\n",
    "\n",
    "\n",
    "\n",
    "\n",
    "\n",
    "\n",
    "\n",
    "\n",
    "\n",
    "\n",
    "\n",
    "\n",
    "\n",
    "\n",
    "\n",
    "\n",
    "\n",
    "\n",
    "\n",
    "\n",
    "\n",
    "\n",
    "\n",
    "\n",
    "\n",
    "\n",
    "\n",
    "\n",
    "\n"
   ]
  }
 ],
 "metadata": {
  "kernelspec": {
   "display_name": "Python 3",
   "language": "python",
   "name": "python3"
  },
  "language_info": {
   "codemirror_mode": {
    "name": "ipython",
    "version": 3
   },
   "file_extension": ".py",
   "mimetype": "text/x-python",
   "name": "python",
   "nbconvert_exporter": "python",
   "pygments_lexer": "ipython3",
   "version": "3.8.1"
  }
 },
 "nbformat": 4,
 "nbformat_minor": 5
}
